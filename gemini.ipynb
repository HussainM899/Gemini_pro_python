{
 "cells": [
  {
   "cell_type": "code",
   "execution_count": 7,
   "metadata": {},
   "outputs": [
    {
     "name": "stdout",
     "output_type": "stream",
     "text": [
      "As an AI chatbot, I have a wide range of capabilities and can perform various tasks to assist you in different areas. Here are some examples of what I can do:\n",
      "\n",
      "1. **Answer Questions:**\n",
      "   - I can provide factual information on a wide range of topics, including science, history, technology, geography, and more.\n",
      "   - I can answer your questions about current events, sports, pop culture, and general knowledge.\n",
      "\n",
      "2. **Translate Languages:**\n",
      "   - I can translate text and speech between over 100 languages, making it easier for you to communicate with people who speak different languages.\n",
      "\n",
      "3. **Write Creative Content:**\n",
      "   - I can generate creative writing, such as poems, short stories, and even song lyrics, based on your prompts or ideas.\n",
      "   - I can write different styles of content, including formal, informal, humorous, or poetic.\n",
      "\n",
      "4. **Compose Music:**\n",
      "   - I can compose original music in various genres, including classical, pop, rock, jazz, and electronic. You can provide me with preferences for instruments, tempo, and mood.\n",
      "\n",
      "5. **Provide Recipes:**\n",
      "   - I can suggest recipes for different cuisines and dietary preferences based on the ingredients you have or are looking for.\n",
      "   - I can provide step-by-step instructions and tips for cooking a variety of dishes.\n",
      "\n",
      "6. **Entertainment:**\n",
      "   - I can tell jokes, play word games, and engage in trivia or quiz games to provide entertaining and educational experiences.\n",
      "\n",
      "7. **Summarize and Extract Information:**\n",
      "   - I can summarize long texts, articles, or documents, extracting the main points and key information concisely.\n",
      "\n",
      "8. **Virtual Assistant Tasks:**\n",
      "   - I can set alarms and reminders, provide weather forecasts, and assist with tasks like scheduling appointments and managing to-do lists.\n",
      "\n",
      "9. **Chat and Conversation:**\n",
      "   - I can engage in open-ended conversations on various topics, providing informative and engaging responses.\n",
      "   - I can simulate human-like interactions, allowing you to practice your conversational skills or simply have a casual chat.\n",
      "\n",
      "These are just a few examples of my capabilities, and I am continuously learning and expanding my knowledge and skills to provide more comprehensive assistance. Let me know if you have any specific questions or tasks you would like me to help you with.\n"
     ]
    }
   ],
   "source": [
    "import google.generativeai as genai\n",
    "\n",
    "# copy and paste your apikey\n",
    "# use this link for geminiapi https://makersuite.google.com/app/apikey\n",
    "genai.configure(api_key=\"\")\n",
    "\n",
    "# Set up the model\n",
    "generation_config = {\n",
    "  \"temperature\": 0.9,\n",
    "  \"top_p\": 1,\n",
    "  \"top_k\": 1,\n",
    "  \"max_output_tokens\": 2048,\n",
    "}\n",
    "\n",
    "safety_settings = [\n",
    "  {\n",
    "    \"category\": \"HARM_CATEGORY_HARASSMENT\",\n",
    "    \"threshold\": \"BLOCK_MEDIUM_AND_ABOVE\"\n",
    "  },\n",
    "  {\n",
    "    \"category\": \"HARM_CATEGORY_HATE_SPEECH\",\n",
    "    \"threshold\": \"BLOCK_MEDIUM_AND_ABOVE\"\n",
    "  },\n",
    "  {\n",
    "    \"category\": \"HARM_CATEGORY_SEXUALLY_EXPLICIT\",\n",
    "    \"threshold\": \"BLOCK_MEDIUM_AND_ABOVE\"\n",
    "  },\n",
    "  {\n",
    "    \"category\": \"HARM_CATEGORY_DANGEROUS_CONTENT\",\n",
    "    \"threshold\": \"BLOCK_MEDIUM_AND_ABOVE\"\n",
    "  }\n",
    "]\n",
    "\n",
    "model = genai.GenerativeModel(model_name=\"gemini-pro\",\n",
    "                              generation_config=generation_config,\n",
    "                              safety_settings=safety_settings)\n",
    "\n",
    "prompt_parts = [\n",
    "  \"What can you do?\",\n",
    "]\n",
    "\n",
    "response = model.generate_content(prompt_parts)\n",
    "print(response.text)"
   ]
  },
  {
   "cell_type": "code",
   "execution_count": null,
   "metadata": {},
   "outputs": [],
   "source": []
  }
 ],
 "metadata": {
  "kernelspec": {
   "display_name": "Python 3",
   "language": "python",
   "name": "python3"
  },
  "language_info": {
   "codemirror_mode": {
    "name": "ipython",
    "version": 3
   },
   "file_extension": ".py",
   "mimetype": "text/x-python",
   "name": "python",
   "nbconvert_exporter": "python",
   "pygments_lexer": "ipython3",
   "version": "3.11.4"
  }
 },
 "nbformat": 4,
 "nbformat_minor": 2
}
